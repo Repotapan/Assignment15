{
 "cells": [
  {
   "cell_type": "markdown",
   "id": "822d395e-f116-4676-842f-80bfa4b61583",
   "metadata": {},
   "source": [
    "Q1)What is a database? Differentiate between SQL and NoSQL databases?"
   ]
  },
  {
   "cell_type": "markdown",
   "id": "28d72ccc-f153-4ddd-ae1a-ce6175b02a03",
   "metadata": {},
   "source": [
    "A database is a collection of data that is organized and stored in a way that allows for efficient access, retrieval, and manipulation of the data.\n",
    "In a database, data is typically organized into tables, which consist of rows and columns. Each row represents a single record, and each column represents a field or attribute of the record. For example, a database for a customer relationship management system might have a table for customers that contains columns for the customer's name, address, phone number, and email address.\n",
    "SQL and NoSQL are two different types of database management systems, each with their own strengths and weaknesses. Here are some of the main differences between SQL and NoSQL databases:\n",
    "Data Model: SQL databases use a structured data model that organizes data into tables with predefined relationships between them. These relationships are enforced by the database's schema, which specifies the types and constraints of the data. NoSQL databases, on the other hand, use a flexible and dynamic data model that can store unstructured or semi-structured data in a variety of formats, including documents, key-value pairs, or graphs.\n",
    "\n",
    "Query Language: SQL databases use SQL (Structured Query Language) to perform queries and manipulate data. SQL is a standardized language that allows users to define, manipulate, and retrieve data from a relational database. NoSQL databases use their own query language or API to perform queries and manipulate data. These languages are often optimized for the specific data model and use case of the database.\n",
    "\n",
    "Scalability: SQL databases are designed to scale vertically, which means adding more resources to a single server, such as CPU and RAM, to handle increased demand. This limits their scalability since there is a practical limit to how much a single server can handle. NoSQL databases are designed to scale horizontally, which means adding more servers to a distributed system to handle increased demand. This makes them highly scalable and able to handle large amounts of data and traffic.\n",
    "\n",
    "Consistency: SQL databases prioritize consistency and enforce strict data validation and transactional control, ensuring that data is always in a consistent state. This can impact performance and scalability, especially in distributed systems. NoSQL databases prioritize availability and partition tolerance, which means that they sacrifice strict consistency for high availability and fault tolerance.\n",
    "\n",
    "Cost: SQL databases tend to be more expensive to operate and maintain since they require specialized hardware and software and often require a skilled database administrator to manage them. NoSQL databases, on the other hand, can be less expensive since they can be run on commodity hardware and are often easier to set up and maintain."
   ]
  },
  {
   "cell_type": "markdown",
   "id": "a3d8c247-fd80-497b-8226-ab7cb64f485c",
   "metadata": {},
   "source": [
    "Q2)What is DDL? Explain why CREATE, DROP, ALTER, and TRUNCATE are used with an example?"
   ]
  },
  {
   "cell_type": "markdown",
   "id": "3d88c1d2-a484-4923-a96c-5c4a41f8b66d",
   "metadata": {},
   "source": [
    "DDL (Data Definition Language) is a subset of SQL (Structured Query Language) that is used to define and manage the structure of a database. DDL statements are used to create, modify, and delete database objects such as tables, indexes, and views.\n",
    "-CREATE: The CREATE statement is used to create a new database object such as a table, index, or view. For example, the following statement creates a new table called \"Customers\" with columns for customer ID, name, and address:\n",
    "\n",
    "\n"
   ]
  },
  {
   "cell_type": "code",
   "execution_count": null,
   "id": "1e17d7ec-174e-4cf2-8cac-cd9e30e1c018",
   "metadata": {},
   "outputs": [],
   "source": [
    "CREATE TABLE Customers (\n",
    "  CustomerID int PRIMARY KEY,\n",
    "  Name varchar(255),\n",
    "  Address varchar(255)\n",
    ");\n"
   ]
  },
  {
   "cell_type": "markdown",
   "id": "17d715ec-f447-4e0d-8a7d-746f895b406d",
   "metadata": {},
   "source": [
    "-ALTER: The ALTER statement is used to modify an existing database object, such as adding or deleting a column from a table or changing the data type of a column. For example, the following statement adds a new column called \"Email\" to the \"Customers\" table:\n",
    "ALTER TABLE Customers\n",
    "ADD Email varchar(255);\n",
    "-DROP: The DROP statement is used to delete an existing database object, such as a table or index. For example, the following statement deletes the \"Customers\" table:\n",
    "DROP TABLE Customers;\n",
    "TRUNCATE: The TRUNCATE statement is used to delete all the data from a table while keeping the structure of the table intact. For example, the following statement deletes all the data from the \"Customers\" table:\n",
    "TRUNCATE TABLE Customers;"
   ]
  },
  {
   "cell_type": "markdown",
   "id": "123c1139-1ab6-4e2a-b615-dddd2d3e41f0",
   "metadata": {},
   "source": [
    "Q3) What is DML? Explain INSERT, UPDATE, and DELETE with an example?"
   ]
  },
  {
   "cell_type": "markdown",
   "id": "81714474-6749-4f85-9c5c-86aa2b4afc41",
   "metadata": {},
   "source": [
    "DML stands for Data Manipulation Language, which is a subset of SQL (Structured Query Language) used to modify data in a database. DML includes commands like INSERT, UPDATE, and DELETE, which are used to add, modify, and delete data in a table. Here are explanations of these three commands:\n",
    "-INSERT: The INSERT statement is used to add new rows to a table.\n",
    "For example, suppose you have a table named \"students\" with columns \"id\", \"name\", and \"age\", and you want to add a new student with id=1, name=\"John\", and age=20. The INSERT statement would look like this:\n"
   ]
  },
  {
   "cell_type": "code",
   "execution_count": null,
   "id": "c2b2b60c-9a3a-4be7-82e7-2d7d31a21811",
   "metadata": {},
   "outputs": [],
   "source": [
    "INSERT INTO students(id,name.age)\n",
    "values(1,\"tapan\",23);\n",
    "-UPDATE: The UPDATE statement is used to modify existing rows in a table. \n",
    "For example, suppose you want to update the age of the student with id=1 to 21. The UPDATE statement would look like this:\n",
    "UPDATE students\n",
    "SET age=23\n",
    "WHERE id=1;\n",
    "-DELETE: The DELETE statement is used to remove rows from a table. \n",
    "DELETE FROM students \n",
    "WHERE id =1;"
   ]
  },
  {
   "cell_type": "markdown",
   "id": "cf90ebf5-7b22-43b2-aecf-cdff1e38f431",
   "metadata": {},
   "source": [
    "Q4)What is DQL? Explain SELECT with an example?"
   ]
  },
  {
   "cell_type": "markdown",
   "id": "b12f7229-d0ed-49c1-9a92-80a1207275b4",
   "metadata": {},
   "source": [
    "DQL stands for Data Query Language, which is a subset of SQL (Structured Query Language) used to retrieve data from a database. DQL includes commands like SELECT, which is used to retrieve data from one or more tables.\n",
    "The SELECT command is used to retrieve data from one or more tables. The basic syntax of the SELECT command is as follows:\n",
    "\n"
   ]
  },
  {
   "cell_type": "code",
   "execution_count": null,
   "id": "0e9ac6a7-2582-4a99-bd43-046bba5b9c73",
   "metadata": {},
   "outputs": [],
   "source": [
    "SELECT column1, column2, ...\n",
    "FROM table1\n",
    "WHERE condition;\n",
    "For example, let's say we have a table named \"employees\" with columns \"employee_id\", \"first_name\", \"last_name\", \"job_title\", and \"salary\". We want to retrieve the employee ID, first name, last name, and salary of all employees whose job title is \"Manager\". The SELECT statement would look like this:\n",
    "SELECT employee_id, first_name, last_name, salary\n",
    "FROM employees\n",
    "WHERE job_title = 'Manager';"
   ]
  },
  {
   "cell_type": "markdown",
   "id": "b10c2762-b747-416d-be17-717c8a06de72",
   "metadata": {},
   "source": [
    "Q5)Explain Primary Key and Foreign Key?"
   ]
  },
  {
   "cell_type": "markdown",
   "id": "ae17aa68-9bab-477f-b01e-91ecbb23b48e",
   "metadata": {},
   "source": [
    "Primary Key:\n",
    "A primary key is a column or a combination of columns in a table that uniquely identifies each row in that table. The primary key constraint ensures that the values in the primary key column(s) are unique and not null. A primary key is used as a reference by other tables, and it is used to establish relationships between tables.\n",
    "Foreign Key:\n",
    "A foreign key is a column or a combination of columns in a table that refers to the primary key of another table. The foreign key constraint ensures that the values in the foreign key column(s) match the values in the primary key column(s) of the referenced table. The foreign key is used to establish relationships between tables."
   ]
  },
  {
   "cell_type": "markdown",
   "id": "dd3be569-fb32-420f-9638-3abe7ea6f211",
   "metadata": {},
   "source": [
    "Q6)Write a python code to connect MySQL to python. Explain the cursor() and execute() method?"
   ]
  },
  {
   "cell_type": "code",
   "execution_count": null,
   "id": "7adda280-724a-4815-baff-7eb60a8352b9",
   "metadata": {},
   "outputs": [],
   "source": [
    "import mysql.connector\n",
    "mydb=mysql.connector.connect(\n",
    "    host=\"localhost\"\n",
    "    user=\"abc\"\n",
    "    password=\"password\"\n",
    ")\n",
    "mycursor=mydb.mycursor()\n",
    "mycursor.execute(\"SHOW DATABASE\")\n",
    "for i in mycursor:\n",
    "    print(i)\n",
    "    \n",
    "\n",
    "\n",
    "\n",
    "\n"
   ]
  },
  {
   "cell_type": "markdown",
   "id": "fa12d52d-2542-4b29-92d9-bf2cb0972451",
   "metadata": {},
   "source": [
    "cursor() is a method that creates a cursor object, which is used to interact with the database. A cursor is like a pointer or iterator that allows you to move through the results of a query or to execute SQL commands. The cursor object provides methods for executing SQL statements, fetching data from the result set, and more.\n",
    "execute() is a method that is used to execute an SQL command. It takes an SQL query as a parameter and sends it to the database for processing. The execute() method returns the number of rows that were affected by the query (e.g. updated or deleted) or the result set of a SELECT statement."
   ]
  },
  {
   "cell_type": "markdown",
   "id": "ec549717-6e42-465e-bca1-b4b74957d132",
   "metadata": {},
   "source": [
    "Q7)Give the order of execution of SQL clauses in an SQL query?"
   ]
  },
  {
   "cell_type": "code",
   "execution_count": null,
   "id": "7778785c-b3bb-496c-bc1e-12eb915740ca",
   "metadata": {},
   "outputs": [],
   "source": [
    "import mysql.connector\n",
    "\n",
    "mydb=mysql.connector.connect(\n",
    "   host=\"localhost\",\n",
    "   user=\"abc\",\n",
    "   password=\"password\"\n",
    "\n",
    ")\n",
    "mycursor=mydb.cursor()\n",
    "\n",
    "mycursor.execute(\"select c1,c2 from DATABASE.TABLENAME\")\n",
    "for i in mycursor.fetchall():\n",
    "    print(i)\n",
    "mydb.close()"
   ]
  },
  {
   "cell_type": "code",
   "execution_count": null,
   "id": "249f53f1-b658-4759-8273-2728969175db",
   "metadata": {},
   "outputs": [],
   "source": []
  }
 ],
 "metadata": {
  "kernelspec": {
   "display_name": "Python 3 (ipykernel)",
   "language": "python",
   "name": "python3"
  },
  "language_info": {
   "codemirror_mode": {
    "name": "ipython",
    "version": 3
   },
   "file_extension": ".py",
   "mimetype": "text/x-python",
   "name": "python",
   "nbconvert_exporter": "python",
   "pygments_lexer": "ipython3",
   "version": "3.10.8"
  }
 },
 "nbformat": 4,
 "nbformat_minor": 5
}
